{
 "cells": [
  {
   "cell_type": "code",
   "execution_count": 1,
   "metadata": {},
   "outputs": [],
   "source": [
    "import spacy"
   ]
  },
  {
   "cell_type": "code",
   "execution_count": 2,
   "metadata": {},
   "outputs": [],
   "source": [
    "def entity_extraction(input_text,language_code):\n",
    "    if language_code == 'en':\n",
    "        pass\n",
    "    elif language_code == 'xx':\n",
    "        language_code = 'xx_ent_wiki_sm'\n",
    "    else:\n",
    "        language_code = '{}_core_news_sm'.format(language_code)\n",
    "    spacy_nlp = spacy.load(language_code)\n",
    "    document = spacy_nlp(input_text)\n",
    "    data = []\n",
    "    for element in document.ents:\n",
    "        record = {}\n",
    "        record['text'] = element\n",
    "        record['type'] = element.label_\n",
    "        record['start_pos'] = element.start_char\n",
    "        record['end_pos'] = element.end_char\n",
    "        data.append(record)\n",
    "    return data"
   ]
  },
  {
   "cell_type": "code",
   "execution_count": 3,
   "metadata": {
    "scrolled": true
   },
   "outputs": [
    {
     "data": {
      "text/plain": [
       "[{'text': Conor, 'type': 'ORG', 'start_pos': 0, 'end_pos': 5}]"
      ]
     },
     "execution_count": 3,
     "metadata": {},
     "output_type": "execute_result"
    }
   ],
   "source": [
    "input_text = '''Conor's dog's toy was hidden under the man's sofa in the woman's house'''\n",
    "language_code = 'en' #en,de,el,es,fr,it,nl,pt,xx\n",
    "entity_extraction(input_text,language_code)"
   ]
  },
  {
   "cell_type": "code",
   "execution_count": null,
   "metadata": {},
   "outputs": [],
   "source": []
  }
 ],
 "metadata": {
  "kernelspec": {
   "display_name": "Python 3",
   "language": "python",
   "name": "python3"
  },
  "language_info": {
   "codemirror_mode": {
    "name": "ipython",
    "version": 3
   },
   "file_extension": ".py",
   "mimetype": "text/x-python",
   "name": "python",
   "nbconvert_exporter": "python",
   "pygments_lexer": "ipython3",
   "version": "3.7.1"
  }
 },
 "nbformat": 4,
 "nbformat_minor": 2
}
